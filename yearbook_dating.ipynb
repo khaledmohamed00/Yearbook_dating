{
  "nbformat": 4,
  "nbformat_minor": 0,
  "metadata": {
    "colab": {
      "name": "yearbook_dating.ipynb",
      "provenance": [],
      "collapsed_sections": [],
      "include_colab_link": true
    },
    "kernelspec": {
      "name": "python3",
      "display_name": "Python 3"
    },
    "accelerator": "GPU"
  },
  "cells": [
    {
      "cell_type": "markdown",
      "metadata": {
        "id": "view-in-github",
        "colab_type": "text"
      },
      "source": [
        "<a href=\"https://colab.research.google.com/github/khaledmohamed00/Yearbook_dating/blob/master/yearbook_dating.ipynb\" target=\"_parent\"><img src=\"https://colab.research.google.com/assets/colab-badge.svg\" alt=\"Open In Colab\"/></a>"
      ]
    },
    {
      "cell_type": "markdown",
      "metadata": {
        "id": "yY0tTDHTr7Sv",
        "colab_type": "text"
      },
      "source": [
        "#Yearbook Datting\n",
        "##INTRODUCTION\n",
        "![alt text](https://people.eecs.berkeley.edu/~shiry/projects/yearbooks/images/decade_averages_labelled.png) \n",
        "-This notebook demonstrates an approach on  creating deep learning model that can predict the date of female portraits and trying to answer the question(is there enough decade-specific visual patterns to be able to predict the year in which a portrait of a face was taken by using deep learning ?).<br />\n",
        "-The inspiration of the notebook is A Century of Portraits:A Visual Historical Record of American High School Yearbooks paper\n",
        "[Yearbooks paper](https://arxiv.org/pdf/1511.02575.pdf)\n"
      ]
    },
    {
      "cell_type": "markdown",
      "metadata": {
        "id": "hNHOuS3x5IEz",
        "colab_type": "text"
      },
      "source": [
        "##Overview the Data Set\n",
        "* The yearbook dataset is Collection of 949 scanned\n",
        "yearbooks from American high schools ranging from 1905-2013 across 128 schools in 27 states\n",
        "* 37,921 photographs that depict individuals from 814 yearbooks across 115 high schools in 26 states.\n",
        "* 53.4% of the photos are of women, and 46.6%\n",
        "are of men. "
      ]
    },
    {
      "cell_type": "markdown",
      "metadata": {
        "id": "5pVxI7CS8SNU",
        "colab_type": "text"
      },
      "source": [
        "## Major libraries and Tools used \n",
        "* Tensorflow 1.13.1 (Deep Learning Framework)\n",
        "* openCv (Computer Vision Libary for image processing)\n",
        "* Albumentations (Image Augmentation library)[Albumentations GitHub](https://github.com/albumentations-team/albumentations)\n"
      ]
    },
    {
      "cell_type": "code",
      "metadata": {
        "id": "8mFhtlGQ3WnR",
        "colab_type": "code",
        "outputId": "5d97693f-2ccb-4ed3-eb1e-a10652210016",
        "colab": {
          "base_uri": "https://localhost:8080/",
          "height": 122
        }
      },
      "source": [
        "from google.colab import drive\n",
        "drive.mount('/content/drive')"
      ],
      "execution_count": 0,
      "outputs": [
        {
          "output_type": "stream",
          "text": [
            "Go to this URL in a browser: https://accounts.google.com/o/oauth2/auth?client_id=947318989803-6bn6qk8qdgf4n4g3pfee6491hc0brc4i.apps.googleusercontent.com&redirect_uri=urn%3aietf%3awg%3aoauth%3a2.0%3aoob&response_type=code&scope=email%20https%3a%2f%2fwww.googleapis.com%2fauth%2fdocs.test%20https%3a%2f%2fwww.googleapis.com%2fauth%2fdrive%20https%3a%2f%2fwww.googleapis.com%2fauth%2fdrive.photos.readonly%20https%3a%2f%2fwww.googleapis.com%2fauth%2fpeopleapi.readonly\n",
            "\n",
            "Enter your authorization code:\n",
            "··········\n",
            "Mounted at /content/drive\n"
          ],
          "name": "stdout"
        }
      ]
    },
    {
      "cell_type": "code",
      "metadata": {
        "id": "ZjwKMPqA3Yv9",
        "colab_type": "code",
        "colab": {}
      },
      "source": [
        "!tar -xf '/content/drive/My Drive/faces_aligned_small_mirrored_co_aligned_cropped_cleaned.tar.gz'"
      ],
      "execution_count": 0,
      "outputs": []
    },
    {
      "cell_type": "code",
      "metadata": {
        "id": "kHzKpHRK5Kp0",
        "colab_type": "code",
        "outputId": "855b0b43-a1e5-4312-b145-c8e7d54e7f7b",
        "colab": {
          "base_uri": "https://localhost:8080/",
          "height": 649
        }
      },
      "source": [
        "!pip install tensorflow-gpu==1.13.1"
      ],
      "execution_count": 0,
      "outputs": [
        {
          "output_type": "stream",
          "text": [
            "Collecting tensorflow-gpu==1.13.1\n",
            "\u001b[?25l  Downloading https://files.pythonhosted.org/packages/7b/b1/0ad4ae02e17ddd62109cd54c291e311c4b5fd09b4d0678d3d6ce4159b0f0/tensorflow_gpu-1.13.1-cp36-cp36m-manylinux1_x86_64.whl (345.2MB)\n",
            "\u001b[K     |████████████████████████████████| 345.2MB 45kB/s \n",
            "\u001b[?25hRequirement already satisfied: absl-py>=0.1.6 in /usr/local/lib/python3.6/dist-packages (from tensorflow-gpu==1.13.1) (0.8.1)\n",
            "Requirement already satisfied: keras-preprocessing>=1.0.5 in /usr/local/lib/python3.6/dist-packages (from tensorflow-gpu==1.13.1) (1.1.0)\n",
            "Collecting tensorflow-estimator<1.14.0rc0,>=1.13.0\n",
            "\u001b[?25l  Downloading https://files.pythonhosted.org/packages/bb/48/13f49fc3fa0fdf916aa1419013bb8f2ad09674c275b4046d5ee669a46873/tensorflow_estimator-1.13.0-py2.py3-none-any.whl (367kB)\n",
            "\u001b[K     |████████████████████████████████| 368kB 38.5MB/s \n",
            "\u001b[?25hRequirement already satisfied: grpcio>=1.8.6 in /usr/local/lib/python3.6/dist-packages (from tensorflow-gpu==1.13.1) (1.15.0)\n",
            "Requirement already satisfied: numpy>=1.13.3 in /usr/local/lib/python3.6/dist-packages (from tensorflow-gpu==1.13.1) (1.17.4)\n",
            "Collecting tensorboard<1.14.0,>=1.13.0\n",
            "\u001b[?25l  Downloading https://files.pythonhosted.org/packages/0f/39/bdd75b08a6fba41f098b6cb091b9e8c7a80e1b4d679a581a0ccd17b10373/tensorboard-1.13.1-py3-none-any.whl (3.2MB)\n",
            "\u001b[K     |████████████████████████████████| 3.2MB 34.5MB/s \n",
            "\u001b[?25hRequirement already satisfied: gast>=0.2.0 in /usr/local/lib/python3.6/dist-packages (from tensorflow-gpu==1.13.1) (0.2.2)\n",
            "Requirement already satisfied: termcolor>=1.1.0 in /usr/local/lib/python3.6/dist-packages (from tensorflow-gpu==1.13.1) (1.1.0)\n",
            "Requirement already satisfied: wheel>=0.26 in /usr/local/lib/python3.6/dist-packages (from tensorflow-gpu==1.13.1) (0.33.6)\n",
            "Requirement already satisfied: protobuf>=3.6.1 in /usr/local/lib/python3.6/dist-packages (from tensorflow-gpu==1.13.1) (3.10.0)\n",
            "Requirement already satisfied: astor>=0.6.0 in /usr/local/lib/python3.6/dist-packages (from tensorflow-gpu==1.13.1) (0.8.0)\n",
            "Requirement already satisfied: six>=1.10.0 in /usr/local/lib/python3.6/dist-packages (from tensorflow-gpu==1.13.1) (1.12.0)\n",
            "Requirement already satisfied: keras-applications>=1.0.6 in /usr/local/lib/python3.6/dist-packages (from tensorflow-gpu==1.13.1) (1.0.8)\n",
            "Collecting mock>=2.0.0\n",
            "  Downloading https://files.pythonhosted.org/packages/05/d2/f94e68be6b17f46d2c353564da56e6fb89ef09faeeff3313a046cb810ca9/mock-3.0.5-py2.py3-none-any.whl\n",
            "Requirement already satisfied: markdown>=2.6.8 in /usr/local/lib/python3.6/dist-packages (from tensorboard<1.14.0,>=1.13.0->tensorflow-gpu==1.13.1) (3.1.1)\n",
            "Requirement already satisfied: werkzeug>=0.11.15 in /usr/local/lib/python3.6/dist-packages (from tensorboard<1.14.0,>=1.13.0->tensorflow-gpu==1.13.1) (0.16.0)\n",
            "Requirement already satisfied: setuptools in /usr/local/lib/python3.6/dist-packages (from protobuf>=3.6.1->tensorflow-gpu==1.13.1) (42.0.2)\n",
            "Requirement already satisfied: h5py in /usr/local/lib/python3.6/dist-packages (from keras-applications>=1.0.6->tensorflow-gpu==1.13.1) (2.8.0)\n",
            "\u001b[31mERROR: tensorflow 1.15.0 has requirement tensorboard<1.16.0,>=1.15.0, but you'll have tensorboard 1.13.1 which is incompatible.\u001b[0m\n",
            "\u001b[31mERROR: tensorflow 1.15.0 has requirement tensorflow-estimator==1.15.1, but you'll have tensorflow-estimator 1.13.0 which is incompatible.\u001b[0m\n",
            "Installing collected packages: mock, tensorflow-estimator, tensorboard, tensorflow-gpu\n",
            "  Found existing installation: tensorflow-estimator 1.15.1\n",
            "    Uninstalling tensorflow-estimator-1.15.1:\n",
            "      Successfully uninstalled tensorflow-estimator-1.15.1\n",
            "  Found existing installation: tensorboard 1.15.0\n",
            "    Uninstalling tensorboard-1.15.0:\n",
            "      Successfully uninstalled tensorboard-1.15.0\n",
            "Successfully installed mock-3.0.5 tensorboard-1.13.1 tensorflow-estimator-1.13.0 tensorflow-gpu-1.13.1\n"
          ],
          "name": "stdout"
        }
      ]
    },
    {
      "cell_type": "code",
      "metadata": {
        "id": "Jb2r7ZzR5Meh",
        "colab_type": "code",
        "outputId": "a71060bd-e75c-43ee-8b82-0d5436cb5205",
        "colab": {
          "base_uri": "https://localhost:8080/",
          "height": 717
        }
      },
      "source": [
        "!pip install -U git+https://github.com/albu/albumentations\n"
      ],
      "execution_count": 0,
      "outputs": [
        {
          "output_type": "stream",
          "text": [
            "Collecting git+https://github.com/albu/albumentations\n",
            "  Cloning https://github.com/albu/albumentations to /tmp/pip-req-build-v0xoy775\n",
            "  Running command git clone -q https://github.com/albu/albumentations /tmp/pip-req-build-v0xoy775\n",
            "Requirement already satisfied, skipping upgrade: numpy>=1.11.1 in /usr/local/lib/python3.6/dist-packages (from albumentations==0.4.4) (1.17.4)\n",
            "Requirement already satisfied, skipping upgrade: scipy in /usr/local/lib/python3.6/dist-packages (from albumentations==0.4.4) (1.3.3)\n",
            "Collecting imgaug<0.2.7,>=0.2.5\n",
            "\u001b[?25l  Downloading https://files.pythonhosted.org/packages/ad/2e/748dbb7bb52ec8667098bae9b585f448569ae520031932687761165419a2/imgaug-0.2.6.tar.gz (631kB)\n",
            "\u001b[K     |████████████████████████████████| 634kB 2.8MB/s \n",
            "\u001b[?25hRequirement already satisfied, skipping upgrade: PyYAML in /usr/local/lib/python3.6/dist-packages (from albumentations==0.4.4) (3.13)\n",
            "Requirement already satisfied, skipping upgrade: opencv-python>=4.1.1 in /usr/local/lib/python3.6/dist-packages (from albumentations==0.4.4) (4.1.2.30)\n",
            "Requirement already satisfied, skipping upgrade: scikit-image>=0.11.0 in /usr/local/lib/python3.6/dist-packages (from imgaug<0.2.7,>=0.2.5->albumentations==0.4.4) (0.15.0)\n",
            "Requirement already satisfied, skipping upgrade: six in /usr/local/lib/python3.6/dist-packages (from imgaug<0.2.7,>=0.2.5->albumentations==0.4.4) (1.12.0)\n",
            "Requirement already satisfied, skipping upgrade: PyWavelets>=0.4.0 in /usr/local/lib/python3.6/dist-packages (from scikit-image>=0.11.0->imgaug<0.2.7,>=0.2.5->albumentations==0.4.4) (1.1.1)\n",
            "Requirement already satisfied, skipping upgrade: pillow>=4.3.0 in /usr/local/lib/python3.6/dist-packages (from scikit-image>=0.11.0->imgaug<0.2.7,>=0.2.5->albumentations==0.4.4) (4.3.0)\n",
            "Requirement already satisfied, skipping upgrade: networkx>=2.0 in /usr/local/lib/python3.6/dist-packages (from scikit-image>=0.11.0->imgaug<0.2.7,>=0.2.5->albumentations==0.4.4) (2.4)\n",
            "Requirement already satisfied, skipping upgrade: matplotlib!=3.0.0,>=2.0.0 in /usr/local/lib/python3.6/dist-packages (from scikit-image>=0.11.0->imgaug<0.2.7,>=0.2.5->albumentations==0.4.4) (3.1.2)\n",
            "Requirement already satisfied, skipping upgrade: imageio>=2.0.1 in /usr/local/lib/python3.6/dist-packages (from scikit-image>=0.11.0->imgaug<0.2.7,>=0.2.5->albumentations==0.4.4) (2.4.1)\n",
            "Requirement already satisfied, skipping upgrade: olefile in /usr/local/lib/python3.6/dist-packages (from pillow>=4.3.0->scikit-image>=0.11.0->imgaug<0.2.7,>=0.2.5->albumentations==0.4.4) (0.46)\n",
            "Requirement already satisfied, skipping upgrade: decorator>=4.3.0 in /usr/local/lib/python3.6/dist-packages (from networkx>=2.0->scikit-image>=0.11.0->imgaug<0.2.7,>=0.2.5->albumentations==0.4.4) (4.4.1)\n",
            "Requirement already satisfied, skipping upgrade: kiwisolver>=1.0.1 in /usr/local/lib/python3.6/dist-packages (from matplotlib!=3.0.0,>=2.0.0->scikit-image>=0.11.0->imgaug<0.2.7,>=0.2.5->albumentations==0.4.4) (1.1.0)\n",
            "Requirement already satisfied, skipping upgrade: pyparsing!=2.0.4,!=2.1.2,!=2.1.6,>=2.0.1 in /usr/local/lib/python3.6/dist-packages (from matplotlib!=3.0.0,>=2.0.0->scikit-image>=0.11.0->imgaug<0.2.7,>=0.2.5->albumentations==0.4.4) (2.4.5)\n",
            "Requirement already satisfied, skipping upgrade: python-dateutil>=2.1 in /usr/local/lib/python3.6/dist-packages (from matplotlib!=3.0.0,>=2.0.0->scikit-image>=0.11.0->imgaug<0.2.7,>=0.2.5->albumentations==0.4.4) (2.6.1)\n",
            "Requirement already satisfied, skipping upgrade: cycler>=0.10 in /usr/local/lib/python3.6/dist-packages (from matplotlib!=3.0.0,>=2.0.0->scikit-image>=0.11.0->imgaug<0.2.7,>=0.2.5->albumentations==0.4.4) (0.10.0)\n",
            "Requirement already satisfied, skipping upgrade: setuptools in /usr/local/lib/python3.6/dist-packages (from kiwisolver>=1.0.1->matplotlib!=3.0.0,>=2.0.0->scikit-image>=0.11.0->imgaug<0.2.7,>=0.2.5->albumentations==0.4.4) (42.0.2)\n",
            "Building wheels for collected packages: albumentations, imgaug\n",
            "  Building wheel for albumentations (setup.py) ... \u001b[?25l\u001b[?25hdone\n",
            "  Created wheel for albumentations: filename=albumentations-0.4.4-cp36-none-any.whl size=61995 sha256=78b9327182ae285cadd3bc87a353afb3f785437f72b63677b89dc719d5b49183\n",
            "  Stored in directory: /tmp/pip-ephem-wheel-cache-us96s0py/wheels/45/8b/e4/2837bbcf517d00732b8e394f8646f22b8723ac00993230188b\n",
            "  Building wheel for imgaug (setup.py) ... \u001b[?25l\u001b[?25hdone\n",
            "  Created wheel for imgaug: filename=imgaug-0.2.6-cp36-none-any.whl size=654020 sha256=a123c95e4d9b84665af6731c015edfc34e8bed8afbc0a6e76608a8e81d9ea2dc\n",
            "  Stored in directory: /root/.cache/pip/wheels/97/ec/48/0d25896c417b715af6236dbcef8f0bed136a1a5e52972fc6d0\n",
            "Successfully built albumentations imgaug\n",
            "Installing collected packages: imgaug, albumentations\n",
            "  Found existing installation: imgaug 0.2.9\n",
            "    Uninstalling imgaug-0.2.9:\n",
            "      Successfully uninstalled imgaug-0.2.9\n",
            "  Found existing installation: albumentations 0.1.12\n",
            "    Uninstalling albumentations-0.1.12:\n",
            "      Successfully uninstalled albumentations-0.1.12\n",
            "Successfully installed albumentations-0.4.4 imgaug-0.2.6\n"
          ],
          "name": "stdout"
        }
      ]
    },
    {
      "cell_type": "markdown",
      "metadata": {
        "id": "JMv_BtBX-VDC",
        "colab_type": "text"
      },
      "source": [
        "### Helper functions"
      ]
    },
    {
      "cell_type": "code",
      "metadata": {
        "id": "d-YQYkEjBfJe",
        "colab_type": "code",
        "colab": {}
      },
      "source": [
        "import matplotlib.pyplot as plt\n",
        "import cv2\n",
        "import numpy as np\n",
        "import pandas as pd\n",
        "\n",
        "def load_images(img_ids,img_dim):\n",
        "   imgs=[]\n",
        "   #dim=(96,96)\n",
        "   for img_id in img_ids:\n",
        "      img=cv2.imread(img_id)\n",
        "      #img = cv2.cvtColor(img, cv2.COLOR_RGB2GRAY)\n",
        "      #img=(img-imgs_mean)/255.0\n",
        "      img = cv2.resize(img, img_dim, interpolation = cv2.INTER_AREA)\n",
        "      img=img.reshape([img_dim[0],img_dim[1],3])\n",
        "      imgs.append(img)\n",
        "   \n",
        "   imgs=np.array(imgs)\n",
        "   \n",
        "   return imgs\n",
        "\n",
        "def calculate_images_mean(input_images):\n",
        "    \n",
        "    summ=input_images.sum(axis=0)\n",
        "    summ=summ.sum(axis=0)\n",
        "    summ=summ.sum(axis=0)\n",
        "    mean=summ/(input_images.shape[0]*input_images.shape[1]*input_images.shape[2])\n",
        "    \n",
        "    return mean\n",
        "   \n",
        "\n",
        "def image_pre_processing(images,imgs_mean):\n",
        "    images=(images-imgs_mean)/255.0\n",
        "    \n",
        "    return images \n",
        "\n",
        "def load_labels_one_hot_encoding(img_years,no_labels):\n",
        " \n",
        "    labels=[]    \n",
        "    min_year = 28\n",
        "    for year in img_years:\n",
        "        one_hot=np.zeros([no_labels])\n",
        "        year = str(year).split('_')[0]\n",
        "        if year[0] == str(1): # 20th century\n",
        "           label = int(year[-2:]) - min_year \n",
        "        else: # 21st century\n",
        "           label = int(year[-2:]) + (100 - min_year)\n",
        "        one_hot[label]=1\n",
        "        labels.append(one_hot)\n",
        "    labels=np.array(labels)    \n",
        "    \n",
        "    return labels        "
      ],
      "execution_count": 0,
      "outputs": []
    },
    {
      "cell_type": "markdown",
      "metadata": {
        "id": "ffZUVPOV-fN3",
        "colab_type": "text"
      },
      "source": [
        "## Exploring the Dataset\n",
        "* I am using images from train_F.txt for training the model and test_F.txt for Testing \n"
      ]
    },
    {
      "cell_type": "code",
      "metadata": {
        "id": "g5tCKdOFH-qs",
        "colab_type": "code",
        "outputId": "53ed8b1a-c26f-4f7b-a833-df7bd90999b4",
        "colab": {
          "base_uri": "https://localhost:8080/",
          "height": 68
        }
      },
      "source": [
        "path=\"/content/faces_aligned_small_mirrored_co_aligned_cropped_cleaned/\"\n",
        "\n",
        "train_dataset=pd.read_csv(\"/content/faces_aligned_small_mirrored_co_aligned_cropped_cleaned/train_F.txt\",delimiter=\"\\n\",header=None)\n",
        "train_id_list=train_dataset[0]\n",
        "train_img_ids=path+train_id_list\n",
        "train_img_ids=[train_id.split(\" \")[0] for train_id in train_img_ids]\n",
        "\n",
        "train_years=[]\n",
        "for id_ in train_id_list:\n",
        "     year=id_.split(\"_\")[0][2:]\n",
        "     train_years.append(int(year))\n",
        "\n",
        "\n",
        "test_dataset=pd.read_csv(\"/content/faces_aligned_small_mirrored_co_aligned_cropped_cleaned/test_F.txt\",delimiter=\"\\n\",header=None)\n",
        "test_id_list=test_dataset[0]\n",
        "test_img_ids=path+test_id_list\n",
        "test_img_ids=[test_id.split(\" \")[0] for test_id in test_img_ids]\n",
        "\n",
        "test_years=[]\n",
        "for id_ in test_id_list:\n",
        "     year=id_.split(\"_\")[0][2:]\n",
        "     test_years.append(int(year))\n",
        "\n",
        "no_training_set=len(train_img_ids)\n",
        "no_testing_set=len(test_img_ids)\n",
        "max_year=max(train_years)\n",
        "min_year=min(train_years)\n",
        "no_labels=max_year-min_year+1\n",
        "\n",
        "print(\"Number of female Portraits used in  training the model = \",no_training_set)\n",
        "print(\"Number of female Portraits used in  evaluating the model = \",no_training_set)\n",
        "print(\"The range of years \",min_year,\"-\",max_year)\n",
        "\n"
      ],
      "execution_count": 0,
      "outputs": [
        {
          "output_type": "stream",
          "text": [
            "Number of female Portraits used in  training the model =  15368\n",
            "Number of female Portraits used in  evaluating the model =  15368\n",
            "The range of years  1928 - 2010\n"
          ],
          "name": "stdout"
        }
      ]
    },
    {
      "cell_type": "code",
      "metadata": {
        "id": "vQgH5WWUK1yU",
        "colab_type": "code",
        "colab": {}
      },
      "source": [
        "input_images=load_images(train_img_ids,(96,96))\n",
        "image_mean=calculate_images_mean(input_images)\n",
        "input_images=image_pre_processing(input_images,image_mean)"
      ],
      "execution_count": 0,
      "outputs": []
    },
    {
      "cell_type": "code",
      "metadata": {
        "id": "QkZZw-xCTog5",
        "colab_type": "code",
        "colab": {}
      },
      "source": [
        "one_hot_labels=load_labels_one_hot_encoding(train_years,no_labels)"
      ],
      "execution_count": 0,
      "outputs": []
    },
    {
      "cell_type": "code",
      "metadata": {
        "id": "36C8vpRUiI6c",
        "colab_type": "code",
        "outputId": "e4e59555-fc22-465e-e5c8-3a0c20b68cab",
        "colab": {
          "base_uri": "https://localhost:8080/",
          "height": 285
        }
      },
      "source": [
        "plt.imshow(input_images[0])"
      ],
      "execution_count": 0,
      "outputs": [
        {
          "output_type": "execute_result",
          "data": {
            "text/plain": [
              "<matplotlib.image.AxesImage at 0x7facc86e13c8>"
            ]
          },
          "metadata": {
            "tags": []
          },
          "execution_count": 9
        },
        {
          "output_type": "display_data",
          "data": {
            "image/png": "[encoded data removed]",
            "text/plain": [
              "<Figure size 432x288 with 1 Axes>"
            ]
          },
          "metadata": {
            "tags": []
          }
        }
      ]
    },
    {
      "cell_type": "markdown",
      "metadata": {
        "id": "p7p1Gab9Bt02",
        "colab_type": "text"
      },
      "source": [
        "## Deep learning model\n",
        "In this notebook i used diffrent models\n",
        "* First model: i used pretrained VGG19 and Fine-tuning for task of dating the portraits of female students as an 83-way year-classification task between the years 1928 and 2010\n",
        "* Second model : the same VGG19 model as before plus image augmentation  (horizontal mirroring data augmentation)\n",
        "\n",
        "* Third model :I created convolution model (convolutional layer,maxpooling layer,batch normalization,dropout) with image augmentation  (horizontal mirroring data augmentation) "
      ]
    },
    {
      "cell_type": "markdown",
      "metadata": {
        "id": "cLZ_LGcHFdDZ",
        "colab_type": "text"
      },
      "source": [
        "### First model is so prone to Overfitting as you can see from learning curves"
      ]
    },
    {
      "cell_type": "code",
      "metadata": {
        "id": "zve48OMguRzH",
        "colab_type": "code",
        "outputId": "202ff927-3cf1-4f85-fe28-c8b64079aabe",
        "colab": {
          "base_uri": "https://localhost:8080/",
          "height": 406
        }
      },
      "source": [
        "from keras.applications.vgg19 import VGG19\n",
        "from keras.applications.vgg19 import preprocess_input\n",
        "from keras.preprocessing import image\n",
        "from keras.models import Model\n",
        "from keras.layers import Dense, GlobalAveragePooling2D\n",
        "from keras import backend as K\n",
        "import keras\n",
        "# create the base pre-trained model\n",
        "base_model = VGG19(weights='imagenet', include_top=False,input_shape=(96,96,3))\n",
        "\n",
        "# add a global spatial average pooling layer\n",
        "x = base_model.output\n",
        "x = GlobalAveragePooling2D()(x)\n",
        "# let's add a fully-connected layer\n",
        "x = Dense(256, activation='relu')(x)\n",
        "x = Dense(128, activation='relu')(x)\n",
        "\n",
        "# and a logistic layer -- let's say we have 200 classes\n",
        "predictions = Dense(no_labels, activation='softmax')(x)\n",
        "\n",
        "# this is the model we will train\n",
        "model = Model(inputs=base_model.input, outputs=predictions)\n",
        "\n",
        "# first: train only the top layers (which were randomly initialized)\n",
        "# i.e. freeze all convolutional VGG19 layers\n",
        "for layer in base_model.layers:\n",
        "    layer.trainable = False\n",
        "\n",
        "for layer in base_model.layers[-3:]:\n",
        "    layer.trainable = True\n",
        "\n",
        "# compile the model (should be done *after* setting layers to non-trainable)\n",
        "opt=keras.optimizers.Adam(lr=0.001, beta_1=0.9, beta_2=0.999, amsgrad=False)\n",
        "\n",
        "model.compile(optimizer=opt, loss='categorical_crossentropy',metrics=['accuracy'])"
      ],
      "execution_count": 0,
      "outputs": [
        {
          "output_type": "stream",
          "text": [
            "Using TensorFlow backend.\n",
            "/usr/local/lib/python3.6/dist-packages/tensorflow/python/framework/dtypes.py:526: FutureWarning: Passing (type, 1) or '1type' as a synonym of type is deprecated; in a future version of numpy, it will be understood as (type, (1,)) / '(1,)type'.\n",
            "  _np_qint8 = np.dtype([(\"qint8\", np.int8, 1)])\n",
            "/usr/local/lib/python3.6/dist-packages/tensorflow/python/framework/dtypes.py:527: FutureWarning: Passing (type, 1) or '1type' as a synonym of type is deprecated; in a future version of numpy, it will be understood as (type, (1,)) / '(1,)type'.\n",
            "  _np_quint8 = np.dtype([(\"quint8\", np.uint8, 1)])\n",
            "/usr/local/lib/python3.6/dist-packages/tensorflow/python/framework/dtypes.py:528: FutureWarning: Passing (type, 1) or '1type' as a synonym of type is deprecated; in a future version of numpy, it will be understood as (type, (1,)) / '(1,)type'.\n",
            "  _np_qint16 = np.dtype([(\"qint16\", np.int16, 1)])\n",
            "/usr/local/lib/python3.6/dist-packages/tensorflow/python/framework/dtypes.py:529: FutureWarning: Passing (type, 1) or '1type' as a synonym of type is deprecated; in a future version of numpy, it will be understood as (type, (1,)) / '(1,)type'.\n",
            "  _np_quint16 = np.dtype([(\"quint16\", np.uint16, 1)])\n",
            "/usr/local/lib/python3.6/dist-packages/tensorflow/python/framework/dtypes.py:530: FutureWarning: Passing (type, 1) or '1type' as a synonym of type is deprecated; in a future version of numpy, it will be understood as (type, (1,)) / '(1,)type'.\n",
            "  _np_qint32 = np.dtype([(\"qint32\", np.int32, 1)])\n",
            "/usr/local/lib/python3.6/dist-packages/tensorflow/python/framework/dtypes.py:535: FutureWarning: Passing (type, 1) or '1type' as a synonym of type is deprecated; in a future version of numpy, it will be understood as (type, (1,)) / '(1,)type'.\n",
            "  np_resource = np.dtype([(\"resource\", np.ubyte, 1)])\n"
          ],
          "name": "stderr"
        },
        {
          "output_type": "display_data",
          "data": {
            "text/html": [
              "<p style=\"color: red;\">\n",
              "The default version of TensorFlow in Colab will soon switch to TensorFlow 2.x.<br>\n",
              "We recommend you <a href=\"https://www.tensorflow.org/guide/migrate\" target=\"_blank\">upgrade</a> now \n",
              "or ensure your notebook will continue to use TensorFlow 1.x via the <code>%tensorflow_version 1.x</code> magic:\n",
              "<a href=\"https://colab.research.google.com/notebooks/tensorflow_version.ipynb\" target=\"_blank\">more info</a>.</p>\n"
            ],
            "text/plain": [
              "<IPython.core.display.HTML object>"
            ]
          },
          "metadata": {
            "tags": []
          }
        },
        {
          "output_type": "stream",
          "text": [
            "WARNING:tensorflow:From /usr/local/lib/python3.6/dist-packages/tensorflow/python/framework/op_def_library.py:263: colocate_with (from tensorflow.python.framework.ops) is deprecated and will be removed in a future version.\n",
            "Instructions for updating:\n",
            "Colocations handled automatically by placer.\n",
            "Downloading data from https://github.com/fchollet/deep-learning-models/releases/download/v0.1/vgg19_weights_tf_dim_ordering_tf_kernels_notop.h5\n",
            "80142336/80134624 [==============================] - 7s 0us/step\n"
          ],
          "name": "stdout"
        }
      ]
    },
    {
      "cell_type": "code",
      "metadata": {
        "id": "Mkn7P-uvEdao",
        "colab_type": "code",
        "colab": {}
      },
      "source": [
        "x_train = preprocess_input(input_images)\n"
      ],
      "execution_count": 0,
      "outputs": []
    },
    {
      "cell_type": "code",
      "metadata": {
        "id": "3kZcEw9JPFPZ",
        "colab_type": "code",
        "colab": {}
      },
      "source": [
        "import keras\n",
        "callbacks = [\n",
        "    keras.callbacks.ModelCheckpoint('./yearbook_dating_best_model.h5', save_weights_only=True, save_best_only=True, mode='min')\n",
        "]"
      ],
      "execution_count": 0,
      "outputs": []
    },
    {
      "cell_type": "code",
      "metadata": {
        "id": "HPsosFeod_Yc",
        "colab_type": "code",
        "colab": {}
      },
      "source": [
        "model.load_weights('/content/yearbook_dating_best_model.h5')"
      ],
      "execution_count": 0,
      "outputs": []
    },
    {
      "cell_type": "code",
      "metadata": {
        "id": "npKY8QVEQEeh",
        "colab_type": "code",
        "outputId": "e0a7e415-6a70-4e42-e856-14b4d598ef72",
        "colab": {
          "base_uri": "https://localhost:8080/",
          "height": 1000
        }
      },
      "source": [
        "history=model.fit(input_images,one_hot_labels, batch_size=16, epochs=100, callbacks=callbacks, validation_split=0.1)"
      ],
      "execution_count": 0,
      "outputs": [
        {
          "output_type": "stream",
          "text": [
            "Train on 13831 samples, validate on 1537 samples\n",
            "Epoch 1/100\n",
            "13831/13831 [==============================] - 25s 2ms/step - loss: 3.6140 - acc: 0.1078 - val_loss: 2.9442 - val_acc: 0.2043\n",
            "Epoch 2/100\n",
            "13831/13831 [==============================] - 22s 2ms/step - loss: 2.7060 - acc: 0.2439 - val_loss: 2.5049 - val_acc: 0.2882\n",
            "Epoch 3/100\n",
            "13831/13831 [==============================] - 22s 2ms/step - loss: 2.3002 - acc: 0.3342 - val_loss: 2.3064 - val_acc: 0.3474\n",
            "Epoch 4/100\n",
            "13831/13831 [==============================] - 22s 2ms/step - loss: 1.9874 - acc: 0.4177 - val_loss: 2.1773 - val_acc: 0.3969\n",
            "Epoch 5/100\n",
            "13831/13831 [==============================] - 22s 2ms/step - loss: 1.7329 - acc: 0.4827 - val_loss: 2.0645 - val_acc: 0.4229\n",
            "Epoch 6/100\n",
            "13831/13831 [==============================] - 22s 2ms/step - loss: 1.4971 - acc: 0.5447 - val_loss: 2.0205 - val_acc: 0.4392\n",
            "Epoch 7/100\n",
            "13831/13831 [==============================] - 22s 2ms/step - loss: 1.2743 - acc: 0.6010 - val_loss: 2.2173 - val_acc: 0.4346\n",
            "Epoch 8/100\n",
            "13831/13831 [==============================] - 22s 2ms/step - loss: 1.0871 - acc: 0.6589 - val_loss: 2.1116 - val_acc: 0.4515\n",
            "Epoch 9/100\n",
            "13831/13831 [==============================] - 22s 2ms/step - loss: 0.9218 - acc: 0.7036 - val_loss: 2.2480 - val_acc: 0.4645\n",
            "Epoch 10/100\n",
            "13831/13831 [==============================] - 22s 2ms/step - loss: 0.7758 - acc: 0.7501 - val_loss: 2.3686 - val_acc: 0.4645\n",
            "Epoch 11/100\n",
            "13831/13831 [==============================] - 22s 2ms/step - loss: 0.6626 - acc: 0.7849 - val_loss: 2.5321 - val_acc: 0.4795\n",
            "Epoch 12/100\n",
            "13831/13831 [==============================] - 22s 2ms/step - loss: 0.5543 - acc: 0.8195 - val_loss: 2.5998 - val_acc: 0.4697\n",
            "Epoch 13/100\n",
            "13831/13831 [==============================] - 22s 2ms/step - loss: 0.4855 - acc: 0.8433 - val_loss: 2.9078 - val_acc: 0.4619\n",
            "Epoch 14/100\n",
            "13831/13831 [==============================] - 22s 2ms/step - loss: 0.4483 - acc: 0.8522 - val_loss: 3.1181 - val_acc: 0.4548\n",
            "Epoch 15/100\n",
            "13831/13831 [==============================] - 22s 2ms/step - loss: 0.3701 - acc: 0.8780 - val_loss: 3.3374 - val_acc: 0.4353\n",
            "Epoch 16/100\n",
            "13831/13831 [==============================] - 22s 2ms/step - loss: 0.3542 - acc: 0.8831 - val_loss: 3.2733 - val_acc: 0.4593\n",
            "Epoch 17/100\n",
            "13831/13831 [==============================] - 22s 2ms/step - loss: 0.3117 - acc: 0.8968 - val_loss: 3.2392 - val_acc: 0.4587\n",
            "Epoch 18/100\n",
            "13831/13831 [==============================] - 22s 2ms/step - loss: 0.3175 - acc: 0.8989 - val_loss: 3.4988 - val_acc: 0.4567\n",
            "Epoch 19/100\n",
            "13831/13831 [==============================] - 22s 2ms/step - loss: 0.3096 - acc: 0.9020 - val_loss: 3.7709 - val_acc: 0.4359\n",
            "Epoch 20/100\n",
            "13831/13831 [==============================] - 22s 2ms/step - loss: 0.2809 - acc: 0.9115 - val_loss: 3.4927 - val_acc: 0.4606\n",
            "Epoch 21/100\n",
            "13831/13831 [==============================] - 22s 2ms/step - loss: 0.2572 - acc: 0.9207 - val_loss: 3.7871 - val_acc: 0.4671\n",
            "Epoch 22/100\n",
            "13831/13831 [==============================] - 22s 2ms/step - loss: 0.2840 - acc: 0.9126 - val_loss: 3.9079 - val_acc: 0.4593\n",
            "Epoch 23/100\n",
            "13831/13831 [==============================] - 22s 2ms/step - loss: 0.2223 - acc: 0.9288 - val_loss: 3.8095 - val_acc: 0.4697\n",
            "Epoch 24/100\n",
            "13831/13831 [==============================] - 22s 2ms/step - loss: 0.2817 - acc: 0.9179 - val_loss: 3.8013 - val_acc: 0.4613\n",
            "Epoch 25/100\n",
            "13831/13831 [==============================] - 22s 2ms/step - loss: 0.2409 - acc: 0.9273 - val_loss: 3.9312 - val_acc: 0.4639\n",
            "Epoch 26/100\n",
            "13831/13831 [==============================] - 22s 2ms/step - loss: 0.2383 - acc: 0.9281 - val_loss: 4.4501 - val_acc: 0.4496\n",
            "Epoch 27/100\n",
            "13831/13831 [==============================] - 22s 2ms/step - loss: 0.2543 - acc: 0.9222 - val_loss: 4.2810 - val_acc: 0.4418\n",
            "Epoch 28/100\n",
            "13831/13831 [==============================] - 22s 2ms/step - loss: 0.2633 - acc: 0.9208 - val_loss: 4.1431 - val_acc: 0.4548\n",
            "Epoch 29/100\n",
            "13831/13831 [==============================] - 22s 2ms/step - loss: 0.2073 - acc: 0.9373 - val_loss: 4.0921 - val_acc: 0.4632\n",
            "Epoch 30/100\n",
            "13831/13831 [==============================] - 21s 2ms/step - loss: 0.2313 - acc: 0.9330 - val_loss: 4.4381 - val_acc: 0.4561\n",
            "Epoch 31/100\n",
            "13831/13831 [==============================] - 22s 2ms/step - loss: 0.2462 - acc: 0.9273 - val_loss: 4.5352 - val_acc: 0.4580\n",
            "Epoch 32/100\n",
            "13831/13831 [==============================] - 22s 2ms/step - loss: 0.2216 - acc: 0.9372 - val_loss: 4.6129 - val_acc: 0.4463\n",
            "Epoch 33/100\n",
            "13831/13831 [==============================] - 22s 2ms/step - loss: 0.2185 - acc: 0.9386 - val_loss: 4.5999 - val_acc: 0.4750\n",
            "Epoch 34/100\n",
            "13831/13831 [==============================] - 22s 2ms/step - loss: 0.2229 - acc: 0.9335 - val_loss: 4.8677 - val_acc: 0.4613\n",
            "Epoch 35/100\n",
            "13831/13831 [==============================] - 22s 2ms/step - loss: 0.2543 - acc: 0.9301 - val_loss: 4.6388 - val_acc: 0.4424\n",
            "Epoch 36/100\n",
            "13831/13831 [==============================] - 22s 2ms/step - loss: 0.2200 - acc: 0.9395 - val_loss: 4.5080 - val_acc: 0.4600\n",
            "Epoch 37/100\n",
            "13831/13831 [==============================] - 22s 2ms/step - loss: 0.2416 - acc: 0.9338 - val_loss: 4.7402 - val_acc: 0.4457\n",
            "Epoch 38/100\n",
            "13831/13831 [==============================] - 22s 2ms/step - loss: 0.2275 - acc: 0.9396 - val_loss: 4.6533 - val_acc: 0.4509\n",
            "Epoch 39/100\n",
            "13831/13831 [==============================] - 22s 2ms/step - loss: 0.2252 - acc: 0.9391 - val_loss: 4.6567 - val_acc: 0.4632\n",
            "Epoch 40/100\n",
            "13831/13831 [==============================] - 22s 2ms/step - loss: 0.2079 - acc: 0.9448 - val_loss: 4.9331 - val_acc: 0.4411\n",
            "Epoch 41/100\n",
            "13831/13831 [==============================] - 22s 2ms/step - loss: 0.2066 - acc: 0.9422 - val_loss: 5.1240 - val_acc: 0.4385\n",
            "Epoch 42/100\n",
            "13831/13831 [==============================] - 22s 2ms/step - loss: 0.2009 - acc: 0.9461 - val_loss: 4.7480 - val_acc: 0.4665\n",
            "Epoch 43/100\n",
            "13831/13831 [==============================] - 22s 2ms/step - loss: 0.2404 - acc: 0.9372 - val_loss: 4.9922 - val_acc: 0.4502\n",
            "Epoch 44/100\n",
            "13831/13831 [==============================] - 22s 2ms/step - loss: 0.2169 - acc: 0.9429 - val_loss: 4.8795 - val_acc: 0.4561\n",
            "Epoch 45/100\n",
            "13831/13831 [==============================] - 22s 2ms/step - loss: 0.1703 - acc: 0.9539 - val_loss: 4.9490 - val_acc: 0.4606\n",
            "Epoch 46/100\n",
            "13831/13831 [==============================] - 22s 2ms/step - loss: 0.2642 - acc: 0.9354 - val_loss: 4.8003 - val_acc: 0.4730\n",
            "Epoch 47/100\n",
            "13831/13831 [==============================] - 21s 2ms/step - loss: 0.2031 - acc: 0.9468 - val_loss: 4.8077 - val_acc: 0.4509\n",
            "Epoch 48/100\n",
            "13831/13831 [==============================] - 22s 2ms/step - loss: 0.2022 - acc: 0.9463 - val_loss: 5.0814 - val_acc: 0.4593\n",
            "Epoch 49/100\n",
            "13831/13831 [==============================] - 21s 2ms/step - loss: 0.2198 - acc: 0.9444 - val_loss: 4.8899 - val_acc: 0.4593\n",
            "Epoch 50/100\n",
            "13831/13831 [==============================] - 20s 1ms/step - loss: 0.2298 - acc: 0.9449 - val_loss: 5.2574 - val_acc: 0.4437\n",
            "Epoch 51/100\n",
            "13831/13831 [==============================] - 20s 1ms/step - loss: 0.2606 - acc: 0.9374 - val_loss: 5.0325 - val_acc: 0.4645\n",
            "Epoch 52/100\n",
            "13831/13831 [==============================] - 20s 1ms/step - loss: 0.1920 - acc: 0.9523 - val_loss: 5.3160 - val_acc: 0.4522\n",
            "Epoch 53/100\n",
            "13831/13831 [==============================] - 20s 1ms/step - loss: 0.2256 - acc: 0.9458 - val_loss: 5.2408 - val_acc: 0.4515\n",
            "Epoch 54/100\n",
            "13831/13831 [==============================] - 21s 1ms/step - loss: 0.2071 - acc: 0.9515 - val_loss: 5.3097 - val_acc: 0.4502\n",
            "Epoch 55/100\n",
            "13831/13831 [==============================] - 21s 1ms/step - loss: 0.2419 - acc: 0.9456 - val_loss: 5.2536 - val_acc: 0.4509\n",
            "Epoch 56/100\n",
            "13831/13831 [==============================] - 21s 1ms/step - loss: 0.1548 - acc: 0.9599 - val_loss: 5.5834 - val_acc: 0.4580\n",
            "Epoch 57/100\n",
            "13831/13831 [==============================] - 21s 1ms/step - loss: 0.2772 - acc: 0.9385 - val_loss: 5.2411 - val_acc: 0.4509\n",
            "Epoch 58/100\n",
            "13831/13831 [==============================] - 21s 2ms/step - loss: 0.2312 - acc: 0.9486 - val_loss: 5.4911 - val_acc: 0.4515\n",
            "Epoch 59/100\n",
            "13831/13831 [==============================] - 21s 2ms/step - loss: 0.2703 - acc: 0.9362 - val_loss: 5.1706 - val_acc: 0.4763\n",
            "Epoch 60/100\n",
            "13831/13831 [==============================] - 21s 1ms/step - loss: 0.1551 - acc: 0.9605 - val_loss: 5.5266 - val_acc: 0.4450\n",
            "Epoch 61/100\n",
            "13831/13831 [==============================] - 21s 2ms/step - loss: 0.2082 - acc: 0.9523 - val_loss: 5.6802 - val_acc: 0.4359\n",
            "Epoch 62/100\n",
            "13831/13831 [==============================] - 21s 2ms/step - loss: 0.2412 - acc: 0.9444 - val_loss: 5.6291 - val_acc: 0.4489\n",
            "Epoch 63/100\n",
            "13831/13831 [==============================] - 21s 2ms/step - loss: 0.2147 - acc: 0.9504 - val_loss: 5.4522 - val_acc: 0.4626\n",
            "Epoch 64/100\n",
            "13831/13831 [==============================] - 21s 2ms/step - loss: 0.2202 - acc: 0.9502 - val_loss: 5.3855 - val_acc: 0.4567\n",
            "Epoch 65/100\n",
            "13831/13831 [==============================] - 21s 2ms/step - loss: 0.2387 - acc: 0.9486 - val_loss: 5.5984 - val_acc: 0.4593\n",
            "Epoch 66/100\n",
            "13831/13831 [==============================] - 21s 2ms/step - loss: 0.2423 - acc: 0.9484 - val_loss: 5.8275 - val_acc: 0.4515\n",
            "Epoch 67/100\n",
            "13831/13831 [==============================] - 21s 2ms/step - loss: 0.2277 - acc: 0.9504 - val_loss: 5.7268 - val_acc: 0.4509\n",
            "Epoch 68/100\n",
            "13831/13831 [==============================] - 21s 2ms/step - loss: 0.2021 - acc: 0.9534 - val_loss: 5.4017 - val_acc: 0.4678\n",
            "Epoch 69/100\n",
            "13831/13831 [==============================] - 21s 2ms/step - loss: 0.2558 - acc: 0.9477 - val_loss: 5.8861 - val_acc: 0.4522\n",
            "Epoch 70/100\n",
            "13831/13831 [==============================] - 21s 2ms/step - loss: 0.2265 - acc: 0.9536 - val_loss: 5.4833 - val_acc: 0.4704\n",
            "Epoch 71/100\n",
            "13831/13831 [==============================] - 21s 2ms/step - loss: 0.2303 - acc: 0.9493 - val_loss: 5.6898 - val_acc: 0.4587\n",
            "Epoch 72/100\n",
            "13831/13831 [==============================] - 21s 2ms/step - loss: 0.1953 - acc: 0.9586 - val_loss: 5.6578 - val_acc: 0.4723\n",
            "Epoch 73/100\n",
            "13831/13831 [==============================] - 21s 2ms/step - loss: 0.2525 - acc: 0.9497 - val_loss: 5.8482 - val_acc: 0.4353\n",
            "Epoch 74/100\n",
            "13831/13831 [==============================] - 21s 2ms/step - loss: 0.2647 - acc: 0.9439 - val_loss: 5.7610 - val_acc: 0.4574\n",
            "Epoch 75/100\n",
            "13831/13831 [==============================] - 21s 2ms/step - loss: 0.1920 - acc: 0.9586 - val_loss: 5.8173 - val_acc: 0.4593\n",
            "Epoch 76/100\n",
            "13831/13831 [==============================] - 21s 2ms/step - loss: 0.2287 - acc: 0.9543 - val_loss: 5.9613 - val_acc: 0.4489\n",
            "Epoch 77/100\n",
            "13831/13831 [==============================] - 21s 2ms/step - loss: 0.2538 - acc: 0.9489 - val_loss: 6.1489 - val_acc: 0.4606\n",
            "Epoch 78/100\n",
            "13831/13831 [==============================] - 21s 2ms/step - loss: 0.2144 - acc: 0.9566 - val_loss: 6.1540 - val_acc: 0.4619\n",
            "Epoch 79/100\n",
            "13831/13831 [==============================] - 21s 2ms/step - loss: 0.2768 - acc: 0.9487 - val_loss: 6.1818 - val_acc: 0.4600\n",
            "Epoch 80/100\n",
            "13831/13831 [==============================] - 21s 2ms/step - loss: 0.2685 - acc: 0.9511 - val_loss: 6.0084 - val_acc: 0.4522\n",
            "Epoch 81/100\n",
            "13831/13831 [==============================] - 21s 2ms/step - loss: 0.2066 - acc: 0.9581 - val_loss: 6.3497 - val_acc: 0.4333\n",
            "Epoch 82/100\n",
            "13831/13831 [==============================] - 21s 2ms/step - loss: 0.2073 - acc: 0.9578 - val_loss: 6.0164 - val_acc: 0.4535\n",
            "Epoch 83/100\n",
            "13831/13831 [==============================] - 21s 2ms/step - loss: 0.2280 - acc: 0.9573 - val_loss: 6.0751 - val_acc: 0.4606\n",
            "Epoch 84/100\n",
            "13831/13831 [==============================] - 21s 2ms/step - loss: 0.2299 - acc: 0.9594 - val_loss: 6.0272 - val_acc: 0.4580\n",
            "Epoch 85/100\n",
            "13831/13831 [==============================] - 21s 2ms/step - loss: 0.2460 - acc: 0.9553 - val_loss: 6.0645 - val_acc: 0.4600\n",
            "Epoch 86/100\n",
            "13831/13831 [==============================] - 21s 2ms/step - loss: 0.2088 - acc: 0.9625 - val_loss: 6.4755 - val_acc: 0.4587\n",
            "Epoch 87/100\n",
            "13831/13831 [==============================] - 21s 2ms/step - loss: 0.2763 - acc: 0.9481 - val_loss: 6.1004 - val_acc: 0.4619\n",
            "Epoch 88/100\n",
            "13831/13831 [==============================] - 21s 2ms/step - loss: 0.2252 - acc: 0.9581 - val_loss: 6.6092 - val_acc: 0.4613\n",
            "Epoch 89/100\n",
            "13831/13831 [==============================] - 21s 2ms/step - loss: 0.2719 - acc: 0.9525 - val_loss: 6.5632 - val_acc: 0.4580\n",
            "Epoch 90/100\n",
            "13831/13831 [==============================] - 21s 2ms/step - loss: 0.2968 - acc: 0.9483 - val_loss: 6.3174 - val_acc: 0.4691\n",
            "Epoch 91/100\n",
            "13831/13831 [==============================] - 21s 2ms/step - loss: 0.2461 - acc: 0.9594 - val_loss: 6.2244 - val_acc: 0.4867\n",
            "Epoch 92/100\n",
            "13831/13831 [==============================] - 21s 2ms/step - loss: 0.2962 - acc: 0.9516 - val_loss: 6.8599 - val_acc: 0.4275\n",
            "Epoch 93/100\n",
            "13831/13831 [==============================] - 21s 2ms/step - loss: 0.2687 - acc: 0.9560 - val_loss: 6.2394 - val_acc: 0.4561\n",
            "Epoch 94/100\n",
            "13831/13831 [==============================] - 21s 2ms/step - loss: 0.2069 - acc: 0.9639 - val_loss: 6.6562 - val_acc: 0.4431\n",
            "Epoch 95/100\n",
            "13831/13831 [==============================] - 21s 2ms/step - loss: 0.2804 - acc: 0.9524 - val_loss: 6.4586 - val_acc: 0.4632\n",
            "Epoch 96/100\n",
            "13831/13831 [==============================] - 21s 2ms/step - loss: 0.2877 - acc: 0.9530 - val_loss: 6.8955 - val_acc: 0.4535\n",
            "Epoch 97/100\n",
            "13831/13831 [==============================] - 21s 2ms/step - loss: 0.2700 - acc: 0.9584 - val_loss: 6.6203 - val_acc: 0.4626\n",
            "Epoch 98/100\n",
            "13831/13831 [==============================] - 21s 2ms/step - loss: 0.3031 - acc: 0.9527 - val_loss: 6.9555 - val_acc: 0.4437\n",
            "Epoch 99/100\n",
            "13831/13831 [==============================] - 21s 2ms/step - loss: 0.3152 - acc: 0.9505 - val_loss: 6.4135 - val_acc: 0.4808\n",
            "Epoch 100/100\n",
            "13831/13831 [==============================] - 21s 2ms/step - loss: 0.2841 - acc: 0.9591 - val_loss: 6.3689 - val_acc: 0.4802\n"
          ],
          "name": "stdout"
        }
      ]
    },
    {
      "cell_type": "code",
      "metadata": {
        "id": "x5hrUEMlYVhX",
        "colab_type": "code",
        "outputId": "3be34446-19ad-40c6-ceab-e364eed68e43",
        "colab": {
          "base_uri": "https://localhost:8080/",
          "height": 590
        }
      },
      "source": [
        "\n",
        "print(history.history.keys())\n",
        "\n",
        "plt.plot(history.history['acc'])\n",
        "plt.plot(history.history['val_acc'])\n",
        "plt.title('model accuracy')\n",
        "plt.ylabel('accuracy')\n",
        "plt.xlabel('epoch')\n",
        "plt.legend(['train', 'test'], loc='upper left')\n",
        "plt.show()\n",
        "\n",
        "\n",
        "# summarize history for loss\n",
        "plt.plot(history.history['loss'])\n",
        "plt.plot(history.history['val_loss'])\n",
        "plt.title('model loss')\n",
        "plt.ylabel('loss')\n",
        "plt.xlabel('epoch')\n",
        "plt.legend(['train', 'test'], loc='upper left')\n",
        "plt.show()\n"
      ],
      "execution_count": 0,
      "outputs": [
        {
          "output_type": "stream",
          "text": [
            "dict_keys(['val_loss', 'val_acc', 'loss', 'acc'])\n"
          ],
          "name": "stdout"
        },
        {
          "output_type": "display_data",
          "data": {
            "image/png": "[encoded data removed]",
            "text/plain": [
              "<Figure size 432x288 with 1 Axes>"
            ]
          },
          "metadata": {
            "tags": []
          }
        },
        {
          "output_type": "display_data",
          "data": {
            "image/png": "[encoded data removed]",
            "text/plain": [
              "<Figure size 432x288 with 1 Axes>"
            ]
          },
          "metadata": {
            "tags": []
          }
        }
      ]
    },
    {
      "cell_type": "code",
      "metadata": {
        "id": "4dPc0LMBYb-o",
        "colab_type": "code",
        "outputId": "76d4da7c-0129-41f3-c102-9a66e15db057",
        "colab": {
          "base_uri": "https://localhost:8080/",
          "height": 1000
        }
      },
      "source": [
        "model.summary()"
      ],
      "execution_count": 0,
      "outputs": [
        {
          "output_type": "stream",
          "text": [
            "Model: \"model_17\"\n",
            "_________________________________________________________________\n",
            "Layer (type)                 Output Shape              Param #   \n",
            "=================================================================\n",
            "input_17 (InputLayer)        (None, 96, 96, 3)         0         \n",
            "_________________________________________________________________\n",
            "block1_conv1 (Conv2D)        (None, 96, 96, 64)        1792      \n",
            "_________________________________________________________________\n",
            "block1_conv2 (Conv2D)        (None, 96, 96, 64)        36928     \n",
            "_________________________________________________________________\n",
            "block1_pool (MaxPooling2D)   (None, 48, 48, 64)        0         \n",
            "_________________________________________________________________\n",
            "block2_conv1 (Conv2D)        (None, 48, 48, 128)       73856     \n",
            "_________________________________________________________________\n",
            "block2_conv2 (Conv2D)        (None, 48, 48, 128)       147584    \n",
            "_________________________________________________________________\n",
            "block2_pool (MaxPooling2D)   (None, 24, 24, 128)       0         \n",
            "_________________________________________________________________\n",
            "block3_conv1 (Conv2D)        (None, 24, 24, 256)       295168    \n",
            "_________________________________________________________________\n",
            "block3_conv2 (Conv2D)        (None, 24, 24, 256)       590080    \n",
            "_________________________________________________________________\n",
            "block3_conv3 (Conv2D)        (None, 24, 24, 256)       590080    \n",
            "_________________________________________________________________\n",
            "block3_conv4 (Conv2D)        (None, 24, 24, 256)       590080    \n",
            "_________________________________________________________________\n",
            "block3_pool (MaxPooling2D)   (None, 12, 12, 256)       0         \n",
            "_________________________________________________________________\n",
            "block4_conv1 (Conv2D)        (None, 12, 12, 512)       1180160   \n",
            "_________________________________________________________________\n",
            "block4_conv2 (Conv2D)        (None, 12, 12, 512)       2359808   \n",
            "_________________________________________________________________\n",
            "block4_conv3 (Conv2D)        (None, 12, 12, 512)       2359808   \n",
            "_________________________________________________________________\n",
            "block4_conv4 (Conv2D)        (None, 12, 12, 512)       2359808   \n",
            "_________________________________________________________________\n",
            "block4_pool (MaxPooling2D)   (None, 6, 6, 512)         0         \n",
            "_________________________________________________________________\n",
            "block5_conv1 (Conv2D)        (None, 6, 6, 512)         2359808   \n",
            "_________________________________________________________________\n",
            "block5_conv2 (Conv2D)        (None, 6, 6, 512)         2359808   \n",
            "_________________________________________________________________\n",
            "block5_conv3 (Conv2D)        (None, 6, 6, 512)         2359808   \n",
            "_________________________________________________________________\n",
            "block5_conv4 (Conv2D)        (None, 6, 6, 512)         2359808   \n",
            "_________________________________________________________________\n",
            "block5_pool (MaxPooling2D)   (None, 3, 3, 512)         0         \n",
            "_________________________________________________________________\n",
            "global_average_pooling2d_17  (None, 512)               0         \n",
            "_________________________________________________________________\n",
            "dense_33 (Dense)             (None, 256)               131328    \n",
            "_________________________________________________________________\n",
            "dense_34 (Dense)             (None, 128)               32896     \n",
            "_________________________________________________________________\n",
            "dense_35 (Dense)             (None, 83)                10707     \n",
            "=================================================================\n",
            "Total params: 20,199,315\n",
            "Trainable params: 4,894,547\n",
            "Non-trainable params: 15,304,768\n",
            "_________________________________________________________________\n"
          ],
          "name": "stdout"
        }
      ]
    },
    {
      "cell_type": "markdown",
      "metadata": {
        "id": "2VYwwMVjG09k",
        "colab_type": "text"
      },
      "source": [
        "### second model is less prone to overfitting due to image augmentation"
      ]
    },
    {
      "cell_type": "code",
      "metadata": {
        "id": "geTFS9fHjMLp",
        "colab_type": "code",
        "outputId": "253bfc2c-7e85-4a55-8b19-2d9c5ce88fe8",
        "colab": {
          "base_uri": "https://localhost:8080/",
          "height": 321
        }
      },
      "source": [
        "import keras\n",
        "from albumentations import (\n",
        "    HorizontalFlip, IAAPerspective, ShiftScaleRotate, CLAHE, RandomRotate90,\n",
        "    Transpose, ShiftScaleRotate, Blur, OpticalDistortion, GridDistortion, HueSaturationValue,\n",
        "    IAAAdditiveGaussianNoise, GaussNoise, MotionBlur, MedianBlur, IAAPiecewiseAffine,IAAAdditiveGaussianNoise,\n",
        "    IAASharpen, IAAEmboss, RandomContrast, RandomBrightness, Flip, OneOf, Compose, RandomGamma, ElasticTransform, ChannelShuffle,RGBShift, Rotate\n",
        ")\n",
        "\n",
        "class Dataset:\n",
        "\n",
        "    \n",
        "    \n",
        "    def __init__(\n",
        "            self,\n",
        "            image_id_list,\n",
        "            labels,\n",
        "            no_labels,\n",
        "            augmentation=None,\n",
        "            preprocessing=None,\n",
        "            mean=0 \n",
        "    ):\n",
        "        self.image_ids = image_id_list\n",
        "        self.labels=labels\n",
        "        self.no_labels=no_labels\n",
        "        self.augmentation = augmentation\n",
        "        self.preprocessing=preprocessing\n",
        "        self.img_dim=(96,96)\n",
        "        self.ids=image_id_list\n",
        "        self.mean=mean\n",
        "    def __getitem__(self, i):\n",
        "        \n",
        "         img=cv2.imread(self.image_ids[i])\n",
        "         img = cv2.resize(img, self.img_dim, interpolation = cv2.INTER_AREA)\n",
        "         img=img.reshape([self.img_dim[0],self.img_dim[1],3])\n",
        "\n",
        "         # Add a third channel dimension to the image to make Keras happy\n",
        "         #image = np.expand_dims(image, axis=2)\n",
        "\n",
        "         # Grab the name of the letter based on the folder it was in\n",
        "         min_year = 28\n",
        "         one_hot=np.zeros([self.no_labels])\n",
        "         year = str(self.labels[i]).split('_')[0]\n",
        "         if year[0] == str(1): # 20th century\n",
        "           label = int(year[-2:]) - min_year \n",
        "         else: # 21st century\n",
        "           label = int(year[-2:]) + (100 - min_year)\n",
        "         one_hot[label]=1\n",
        "        # apply augmentations\n",
        "\n",
        "         if self.augmentation:\n",
        "            sample = self.augmentation(image=img)\n",
        "            img= sample['image']\n",
        "        \n",
        "        # apply preprocessing\n",
        "            #sample = self.preprocessing(image=image)\n",
        "            #image= sample['image']\n",
        "         if self.preprocessing:\n",
        "           img=(img-self.mean)/255.0\n",
        "        \n",
        "         return img,one_hot\n",
        "        \n",
        "    def __len__(self):\n",
        "        return len(self.ids)\n",
        "\n",
        "\n",
        "class Dataloder(keras.utils.Sequence):\n",
        "    \"\"\"Load data from dataset and form batches\n",
        "    \n",
        "    Args:\n",
        "        dataset: instance of Dataset class for image loading and preprocessing.\n",
        "        batch_size: Integet number of images in batch.\n",
        "        shuffle: Boolean, if `True` shuffle image indexes each epoch.\n",
        "    \"\"\"\n",
        "    \n",
        "    def __init__(self, dataset, batch_size=1, shuffle=False):\n",
        "        self.dataset = dataset\n",
        "        self.batch_size = batch_size\n",
        "        self.shuffle = shuffle\n",
        "        self.indexes = np.arange(len(dataset))\n",
        "\n",
        "        self.on_epoch_end()\n",
        "\n",
        "    def __getitem__(self, i):\n",
        "        \n",
        "        # collect batch data\n",
        "        start = i * self.batch_size\n",
        "        stop = (i + 1) * self.batch_size\n",
        "        data = []\n",
        "        for j in range(start, stop):\n",
        "            data.append(self.dataset[j])\n",
        "        \n",
        "        # transpose list of lists\n",
        "        batch = [np.stack(samples, axis=0) for samples in zip(*data)]\n",
        "        \n",
        "        return batch\n",
        "    \n",
        "    def __len__(self):\n",
        "        \"\"\"Denotes the number of batches per epoch\"\"\"\n",
        "        return len(self.indexes) // self.batch_size\n",
        "    \n",
        "    def on_epoch_end(self):\n",
        "        \"\"\"Callback function to shuffle indexes each epoch\"\"\"\n",
        "        if self.shuffle:\n",
        "            self.indexes = np.random.permutation(self.indexes)\n",
        "\n",
        "\n",
        "\n",
        "def round_clip_0_1(x, **kwargs):\n",
        "    return x.round().clip(0, 1)\n",
        "\n",
        "# define heavy augmentations\n",
        "def get_training_augmentation():\n",
        "    train_transform = [\n",
        "\n",
        "        #ShiftScaleRotate(scale_limit=0.5, rotate_limit=0, shift_limit=0.1, p=1, border_mode=0),\n",
        "        HorizontalFlip(always_apply=False, p=0.5)\n",
        "        #IAAAdditiveGaussianNoise(p=0.2),\n",
        "        #IAAPerspective(p=0.5),\n",
        "      \n",
        "        #Lambda(mask=round_clip_0_1)\n",
        "    ]\n",
        "    return Compose(train_transform)"
      ],
      "execution_count": 0,
      "outputs": [
        {
          "output_type": "stream",
          "text": [
            "Using TensorFlow backend.\n",
            "/usr/local/lib/python3.6/dist-packages/tensorflow/python/framework/dtypes.py:526: FutureWarning: Passing (type, 1) or '1type' as a synonym of type is deprecated; in a future version of numpy, it will be understood as (type, (1,)) / '(1,)type'.\n",
            "  _np_qint8 = np.dtype([(\"qint8\", np.int8, 1)])\n",
            "/usr/local/lib/python3.6/dist-packages/tensorflow/python/framework/dtypes.py:527: FutureWarning: Passing (type, 1) or '1type' as a synonym of type is deprecated; in a future version of numpy, it will be understood as (type, (1,)) / '(1,)type'.\n",
            "  _np_quint8 = np.dtype([(\"quint8\", np.uint8, 1)])\n",
            "/usr/local/lib/python3.6/dist-packages/tensorflow/python/framework/dtypes.py:528: FutureWarning: Passing (type, 1) or '1type' as a synonym of type is deprecated; in a future version of numpy, it will be understood as (type, (1,)) / '(1,)type'.\n",
            "  _np_qint16 = np.dtype([(\"qint16\", np.int16, 1)])\n",
            "/usr/local/lib/python3.6/dist-packages/tensorflow/python/framework/dtypes.py:529: FutureWarning: Passing (type, 1) or '1type' as a synonym of type is deprecated; in a future version of numpy, it will be understood as (type, (1,)) / '(1,)type'.\n",
            "  _np_quint16 = np.dtype([(\"quint16\", np.uint16, 1)])\n",
            "/usr/local/lib/python3.6/dist-packages/tensorflow/python/framework/dtypes.py:530: FutureWarning: Passing (type, 1) or '1type' as a synonym of type is deprecated; in a future version of numpy, it will be understood as (type, (1,)) / '(1,)type'.\n",
            "  _np_qint32 = np.dtype([(\"qint32\", np.int32, 1)])\n",
            "/usr/local/lib/python3.6/dist-packages/tensorflow/python/framework/dtypes.py:535: FutureWarning: Passing (type, 1) or '1type' as a synonym of type is deprecated; in a future version of numpy, it will be understood as (type, (1,)) / '(1,)type'.\n",
            "  np_resource = np.dtype([(\"resource\", np.ubyte, 1)])\n"
          ],
          "name": "stderr"
        },
        {
          "output_type": "display_data",
          "data": {
            "text/html": [
              "<p style=\"color: red;\">\n",
              "The default version of TensorFlow in Colab will soon switch to TensorFlow 2.x.<br>\n",
              "We recommend you <a href=\"https://www.tensorflow.org/guide/migrate\" target=\"_blank\">upgrade</a> now \n",
              "or ensure your notebook will continue to use TensorFlow 1.x via the <code>%tensorflow_version 1.x</code> magic:\n",
              "<a href=\"https://colab.research.google.com/notebooks/tensorflow_version.ipynb\" target=\"_blank\">more info</a>.</p>\n"
            ],
            "text/plain": [
              "<IPython.core.display.HTML object>"
            ]
          },
          "metadata": {
            "tags": []
          }
        }
      ]
    },
    {
      "cell_type": "code",
      "metadata": {
        "id": "f6PJGy5S09-Y",
        "colab_type": "code",
        "colab": {}
      },
      "source": [
        "from sklearn.model_selection import train_test_split\n",
        "X_train, X_valid, y_train, y_valid = train_test_split(\n",
        "    train_img_ids,train_years, random_state=2019, test_size=0.1\n",
        ")\n",
        "\n",
        "# paths.list_images(LETTER_IMAGES_FOLDER):\n",
        "train_dataset = Dataset(\n",
        "    X_train,\n",
        "    y_train,\n",
        "    no_labels,\n",
        "    augmentation=get_training_augmentation(),\n",
        "    preprocessing=True,\n",
        "    mean=image_mean\n",
        ")       \n",
        "\n",
        "valid_dataset = Dataset(\n",
        "    X_valid,\n",
        "    y_valid,\n",
        "    no_labels,\n",
        "    augmentation=None,\n",
        "    preprocessing=True,\n",
        "    mean=image_mean\n",
        ")\n",
        "BATCH_SIZE=16\n",
        "EPOCHS=30\n",
        "train_dataloader = Dataloder(train_dataset, batch_size=BATCH_SIZE, shuffle=True)\n",
        "valid_dataloader = Dataloder(valid_dataset, batch_size=1, shuffle=False)\n",
        "\n",
        "\n",
        "assert train_dataloader[0][0].shape == (BATCH_SIZE, 96,96,3)\n",
        "assert train_dataloader[0][1].shape == (BATCH_SIZE,83)    "
      ],
      "execution_count": 0,
      "outputs": []
    },
    {
      "cell_type": "code",
      "metadata": {
        "id": "EjfhbTc42y9O",
        "colab_type": "code",
        "colab": {}
      },
      "source": [
        "callbacks = [\n",
        "    keras.callbacks.ModelCheckpoint('./yearbook_dating_best_model01.h5', save_weights_only=True, save_best_only=True, mode='min'),\n",
        "]\n"
      ],
      "execution_count": 0,
      "outputs": []
    },
    {
      "cell_type": "code",
      "metadata": {
        "id": "eRLAK-Tz7Wlh",
        "colab_type": "code",
        "colab": {}
      },
      "source": [
        "model.load_weights('/content/yearbook_dating_best_model01.h5')"
      ],
      "execution_count": 0,
      "outputs": []
    },
    {
      "cell_type": "code",
      "metadata": {
        "id": "Sc-2O2jt3E0x",
        "colab_type": "code",
        "outputId": "885e9b5f-0c52-4b43-b577-ae8299bbd905",
        "colab": {
          "base_uri": "https://localhost:8080/",
          "height": 1000
        }
      },
      "source": [
        "history = model.fit_generator(\n",
        "    train_dataloader, \n",
        "    steps_per_epoch=len(train_dataloader), \n",
        "    epochs=EPOCHS, \n",
        "    callbacks=callbacks, \n",
        "    validation_data=valid_dataloader, \n",
        "    validation_steps=len(valid_dataloader),\n",
        ")"
      ],
      "execution_count": 0,
      "outputs": [
        {
          "output_type": "stream",
          "text": [
            "Epoch 1/30\n",
            "864/864 [==============================] - 40s 46ms/step - loss: 2.0420 - acc: 0.4130 - val_loss: 2.0320 - val_acc: 0.4463\n",
            "Epoch 2/30\n",
            "864/864 [==============================] - 39s 45ms/step - loss: 1.7747 - acc: 0.4747 - val_loss: 2.0049 - val_acc: 0.4470\n",
            "Epoch 3/30\n",
            "864/864 [==============================] - 39s 45ms/step - loss: 1.6392 - acc: 0.5103 - val_loss: 2.0204 - val_acc: 0.4632\n",
            "Epoch 4/30\n",
            "864/864 [==============================] - 39s 45ms/step - loss: 1.5239 - acc: 0.5349 - val_loss: 2.0121 - val_acc: 0.4606\n",
            "Epoch 5/30\n",
            "864/864 [==============================] - 39s 45ms/step - loss: 1.4153 - acc: 0.5702 - val_loss: 2.0408 - val_acc: 0.4600\n",
            "Epoch 6/30\n",
            "864/864 [==============================] - 39s 45ms/step - loss: 1.3338 - acc: 0.5879 - val_loss: 2.0322 - val_acc: 0.4684\n",
            "Epoch 7/30\n",
            "864/864 [==============================] - 39s 45ms/step - loss: 1.2250 - acc: 0.6219 - val_loss: 2.1167 - val_acc: 0.4763\n",
            "Epoch 8/30\n",
            "864/864 [==============================] - 39s 45ms/step - loss: 1.1502 - acc: 0.6410 - val_loss: 2.1489 - val_acc: 0.4841\n",
            "Epoch 9/30\n",
            "864/864 [==============================] - 39s 45ms/step - loss: 1.0823 - acc: 0.6595 - val_loss: 2.2065 - val_acc: 0.4789\n",
            "Epoch 10/30\n",
            "864/864 [==============================] - 39s 45ms/step - loss: 1.0094 - acc: 0.6819 - val_loss: 2.3173 - val_acc: 0.4769\n",
            "Epoch 11/30\n",
            "864/864 [==============================] - 39s 45ms/step - loss: 0.9676 - acc: 0.6921 - val_loss: 2.3412 - val_acc: 0.4665\n",
            "Epoch 12/30\n",
            "864/864 [==============================] - 39s 46ms/step - loss: 0.9043 - acc: 0.7138 - val_loss: 2.4130 - val_acc: 0.4821\n",
            "Epoch 13/30\n",
            "864/864 [==============================] - 39s 45ms/step - loss: 0.8702 - acc: 0.7222 - val_loss: 2.4261 - val_acc: 0.4867\n",
            "Epoch 14/30\n",
            "864/864 [==============================] - 39s 45ms/step - loss: 0.7972 - acc: 0.7453 - val_loss: 2.5622 - val_acc: 0.4606\n",
            "Epoch 15/30\n",
            "864/864 [==============================] - 39s 45ms/step - loss: 0.7692 - acc: 0.7530 - val_loss: 2.6347 - val_acc: 0.4554\n",
            "Epoch 16/30\n",
            "864/864 [==============================] - 39s 45ms/step - loss: 0.7304 - acc: 0.7628 - val_loss: 2.7992 - val_acc: 0.4658\n",
            "Epoch 17/30\n",
            "864/864 [==============================] - 39s 45ms/step - loss: 0.6866 - acc: 0.7823 - val_loss: 2.7062 - val_acc: 0.4678\n",
            "Epoch 18/30\n",
            "864/864 [==============================] - 39s 45ms/step - loss: 0.6511 - acc: 0.7879 - val_loss: 2.8387 - val_acc: 0.4561\n",
            "Epoch 19/30\n",
            "864/864 [==============================] - 39s 45ms/step - loss: 0.6377 - acc: 0.7891 - val_loss: 2.9454 - val_acc: 0.4717\n",
            "Epoch 20/30\n",
            "864/864 [==============================] - 39s 45ms/step - loss: 0.6192 - acc: 0.7951 - val_loss: 2.8678 - val_acc: 0.4821\n",
            "Epoch 21/30\n",
            "864/864 [==============================] - 39s 45ms/step - loss: 0.5793 - acc: 0.8085 - val_loss: 3.0680 - val_acc: 0.4632\n",
            "Epoch 22/30\n",
            "864/864 [==============================] - 39s 45ms/step - loss: 0.5563 - acc: 0.8187 - val_loss: 3.0064 - val_acc: 0.4769\n",
            "Epoch 23/30\n",
            "864/864 [==============================] - 39s 45ms/step - loss: 0.5198 - acc: 0.8288 - val_loss: 3.0918 - val_acc: 0.4697\n",
            "Epoch 24/30\n",
            "864/864 [==============================] - 39s 45ms/step - loss: 0.4641 - acc: 0.8448 - val_loss: 3.2790 - val_acc: 0.4704\n",
            "Epoch 25/30\n",
            "864/864 [==============================] - 39s 45ms/step - loss: 0.5139 - acc: 0.8332 - val_loss: 3.3208 - val_acc: 0.4750\n",
            "Epoch 26/30\n",
            "864/864 [==============================] - 39s 45ms/step - loss: 0.4728 - acc: 0.8438 - val_loss: 3.3423 - val_acc: 0.4606\n",
            "Epoch 27/30\n",
            "864/864 [==============================] - 39s 45ms/step - loss: 0.4528 - acc: 0.8521 - val_loss: 3.5559 - val_acc: 0.4463\n",
            "Epoch 28/30\n",
            "864/864 [==============================] - 39s 45ms/step - loss: 0.4568 - acc: 0.8525 - val_loss: 3.5946 - val_acc: 0.4541\n",
            "Epoch 29/30\n",
            "864/864 [==============================] - 39s 45ms/step - loss: 0.4471 - acc: 0.8514 - val_loss: 3.5342 - val_acc: 0.4613\n",
            "Epoch 30/30\n",
            "864/864 [==============================] - 39s 45ms/step - loss: 0.4236 - acc: 0.8579 - val_loss: 3.7859 - val_acc: 0.4632\n"
          ],
          "name": "stdout"
        }
      ]
    },
    {
      "cell_type": "code",
      "metadata": {
        "id": "kcRso8ud6ApG",
        "colab_type": "code",
        "outputId": "11990dca-934b-454a-8139-cbe9de6b99cd",
        "colab": {
          "base_uri": "https://localhost:8080/",
          "height": 590
        }
      },
      "source": [
        "print(history.history.keys())\n",
        "\n",
        "plt.plot(history.history['acc'])\n",
        "plt.plot(history.history['val_acc'])\n",
        "plt.title('model accuracy')\n",
        "plt.ylabel('accuracy')\n",
        "plt.xlabel('epoch')\n",
        "plt.legend(['train', 'test'], loc='upper left')\n",
        "plt.show()\n",
        "\n",
        "\n",
        "# summarize history for loss\n",
        "plt.plot(history.history['loss'])\n",
        "plt.plot(history.history['val_loss'])\n",
        "plt.title('model loss')\n",
        "plt.ylabel('loss')\n",
        "plt.xlabel('epoch')\n",
        "plt.legend(['train', 'test'], loc='upper left')\n",
        "plt.show()"
      ],
      "execution_count": 0,
      "outputs": [
        {
          "output_type": "stream",
          "text": [
            "dict_keys(['val_loss', 'val_acc', 'loss', 'acc'])\n"
          ],
          "name": "stdout"
        },
        {
          "output_type": "display_data",
          "data": {
            "image/png": "[encoded data removed]",
            "text/plain": [
              "<Figure size 432x288 with 1 Axes>"
            ]
          },
          "metadata": {
            "tags": []
          }
        },
        {
          "output_type": "display_data",
          "data": {
            "image/png": "[encoded data removed]",
            "text/plain": [
              "<Figure size 432x288 with 1 Axes>"
            ]
          },
          "metadata": {
            "tags": []
          }
        }
      ]
    },
    {
      "cell_type": "markdown",
      "metadata": {
        "id": "hUxrTjQuHfry",
        "colab_type": "text"
      },
      "source": [
        "###Third model is less brone to overfitting due to Dropout and image augmentation"
      ]
    },
    {
      "cell_type": "code",
      "metadata": {
        "id": "T1Hbk5sc9ErD",
        "colab_type": "code",
        "colab": {}
      },
      "source": [
        "from keras.models import Sequential\n",
        "from keras.layers.convolutional import Conv2D, MaxPooling2D\n",
        "from keras.layers.core import Flatten, Dense\n",
        "from keras.models import load_model\n",
        "from keras.layers import  Dropout,BatchNormalization\n",
        "def conv_model():\n",
        "    model = Sequential()\n",
        "\n",
        "    # First convolutional layer with max pooling\n",
        "    model.add(Conv2D(16, (5, 5), padding=\"same\", input_shape=(96, 96,3), activation=\"relu\"))\n",
        "    model.add(BatchNormalization(axis=1))\n",
        "    model.add(MaxPooling2D(pool_size=(2, 2), strides=(2, 2)))\n",
        "    model.add(Dropout(0.2))\n",
        "\n",
        "    # Second convolutional layer with max pooling\n",
        "    model.add(Conv2D(32, (5, 5), padding=\"same\", activation=\"relu\"))\n",
        "    model.add(BatchNormalization(axis=1))\n",
        "\n",
        "    model.add(MaxPooling2D(pool_size=(2, 2), strides=(2, 2)))\n",
        "    model.add(Dropout(0.2))\n",
        "    # third convolutional layer with max pooling\n",
        "    model.add(Conv2D(64, (5, 5), padding=\"same\", activation=\"relu\"))\n",
        "    model.add(BatchNormalization(axis=1))\n",
        "    model.add(MaxPooling2D(pool_size=(2, 2), strides=(2, 2)))\n",
        "    model.add(Dropout(0.2))\n",
        "\n",
        "    # fourth convolutional layer with max pooling\n",
        "    model.add(Conv2D(128, (5, 5), padding=\"same\", activation=\"relu\"))\n",
        "    model.add(MaxPooling2D(pool_size=(2, 2), strides=(2, 2)))\n",
        "    model.add(Dropout(0.1))\n",
        "\n",
        "    # fifth layer with 500 nodes\n",
        "    model.add(Flatten())\n",
        "    model.add(Dense(1024, activation=\"relu\"))\n",
        "    model.add(Dropout(0.1))\n",
        "    model.add(Dense(512, activation=\"relu\"))\n",
        "    # Output layer with 32 nodes (one for each possible letter/number we predict)\n",
        "    model.add(Dense(83, activation=\"softmax\"))\n",
        "    \n",
        "    return model"
      ],
      "execution_count": 0,
      "outputs": []
    },
    {
      "cell_type": "code",
      "metadata": {
        "id": "2aQ6H49A6Shz",
        "colab_type": "code",
        "outputId": "5c6006ce-4629-4863-c4a0-1f4946dec13e",
        "colab": {
          "base_uri": "https://localhost:8080/",
          "height": 139
        }
      },
      "source": [
        "model=conv_model()\n",
        "opt=keras.optimizers.Adam(lr=0.001, beta_1=0.9, beta_2=0.999, amsgrad=False)\n",
        "\n",
        "model.compile(optimizer=opt, loss='categorical_crossentropy',metrics=['accuracy'])"
      ],
      "execution_count": 0,
      "outputs": [
        {
          "output_type": "stream",
          "text": [
            "WARNING:tensorflow:From /usr/local/lib/python3.6/dist-packages/tensorflow/python/framework/op_def_library.py:263: colocate_with (from tensorflow.python.framework.ops) is deprecated and will be removed in a future version.\n",
            "Instructions for updating:\n",
            "Colocations handled automatically by placer.\n",
            "WARNING:tensorflow:From /usr/local/lib/python3.6/dist-packages/keras/backend/tensorflow_backend.py:3733: calling dropout (from tensorflow.python.ops.nn_ops) with keep_prob is deprecated and will be removed in a future version.\n",
            "Instructions for updating:\n",
            "Please use `rate` instead of `keep_prob`. Rate should be set to `rate = 1 - keep_prob`.\n"
          ],
          "name": "stdout"
        }
      ]
    },
    {
      "cell_type": "code",
      "metadata": {
        "id": "7xErr_T46YJY",
        "colab_type": "code",
        "colab": {}
      },
      "source": [
        "callbacks = [\n",
        "    keras.callbacks.ModelCheckpoint('./yearbook_dating_best_model02.h5', save_weights_only=True, save_best_only=True, mode='min'),\n",
        "]\n"
      ],
      "execution_count": 0,
      "outputs": []
    },
    {
      "cell_type": "code",
      "metadata": {
        "id": "jEn-1b4H6cy-",
        "colab_type": "code",
        "colab": {}
      },
      "source": [
        "model.load_weights('/content/drive/My Drive/yearbook_dating_best_model02.h5')"
      ],
      "execution_count": 0,
      "outputs": []
    },
    {
      "cell_type": "markdown",
      "metadata": {
        "id": "HTRj_i-_hFeK",
        "colab_type": "text"
      },
      "source": [
        "I retrained the model multiple time no just 30 epochs that is the output of the last attempt"
      ]
    },
    {
      "cell_type": "code",
      "metadata": {
        "id": "NM6SitXk6g14",
        "colab_type": "code",
        "outputId": "b3a9bf18-e52c-4445-b52f-2d208b301785",
        "colab": {
          "base_uri": "https://localhost:8080/",
          "height": 1000
        }
      },
      "source": [
        "history = model.fit_generator(\n",
        "    train_dataloader, \n",
        "    steps_per_epoch=len(train_dataloader), \n",
        "    epochs=EPOCHS, \n",
        "    callbacks=callbacks, \n",
        "    validation_data=valid_dataloader, \n",
        "    validation_steps=len(valid_dataloader),\n",
        ")"
      ],
      "execution_count": 0,
      "outputs": [
        {
          "output_type": "stream",
          "text": [
            "Epoch 1/30\n",
            "864/864 [==============================] - 34s 39ms/step - loss: 3.7148 - acc: 0.1128 - val_loss: 3.1020 - val_acc: 0.2049\n",
            "Epoch 2/30\n",
            "864/864 [==============================] - 32s 37ms/step - loss: 2.9871 - acc: 0.2219 - val_loss: 2.7090 - val_acc: 0.2694\n",
            "Epoch 3/30\n",
            "864/864 [==============================] - 32s 37ms/step - loss: 2.6237 - acc: 0.2953 - val_loss: 2.3642 - val_acc: 0.3435\n",
            "Epoch 4/30\n",
            "864/864 [==============================] - 31s 36ms/step - loss: 2.3936 - acc: 0.3477 - val_loss: 2.2173 - val_acc: 0.3878\n",
            "Epoch 5/30\n",
            "864/864 [==============================] - 32s 37ms/step - loss: 2.1880 - acc: 0.3951 - val_loss: 2.0899 - val_acc: 0.4418\n",
            "Epoch 6/30\n",
            "864/864 [==============================] - 32s 36ms/step - loss: 2.0240 - acc: 0.4340 - val_loss: 2.1120 - val_acc: 0.4346\n",
            "Epoch 7/30\n",
            "864/864 [==============================] - 31s 36ms/step - loss: 1.8855 - acc: 0.4719 - val_loss: 2.0329 - val_acc: 0.4281\n",
            "Epoch 8/30\n",
            "864/864 [==============================] - 31s 36ms/step - loss: 1.7564 - acc: 0.4941 - val_loss: 1.9244 - val_acc: 0.4717\n",
            "Epoch 9/30\n",
            "864/864 [==============================] - 31s 36ms/step - loss: 1.6183 - acc: 0.5346 - val_loss: 2.0051 - val_acc: 0.4613\n",
            "Epoch 10/30\n",
            "864/864 [==============================] - 32s 37ms/step - loss: 1.5275 - acc: 0.5566 - val_loss: 1.9213 - val_acc: 0.4977\n",
            "Epoch 11/30\n",
            "864/864 [==============================] - 31s 36ms/step - loss: 1.4079 - acc: 0.5883 - val_loss: 1.8304 - val_acc: 0.5140\n",
            "Epoch 12/30\n",
            "864/864 [==============================] - 32s 37ms/step - loss: 1.3172 - acc: 0.6086 - val_loss: 1.9229 - val_acc: 0.5036\n",
            "Epoch 13/30\n",
            "864/864 [==============================] - 31s 36ms/step - loss: 1.2137 - acc: 0.6367 - val_loss: 1.9711 - val_acc: 0.5107\n",
            "Epoch 14/30\n",
            "864/864 [==============================] - 32s 37ms/step - loss: 1.1346 - acc: 0.6594 - val_loss: 2.0554 - val_acc: 0.5016\n",
            "Epoch 15/30\n",
            "864/864 [==============================] - 32s 37ms/step - loss: 1.0542 - acc: 0.6771 - val_loss: 1.9220 - val_acc: 0.5283\n",
            "Epoch 16/30\n",
            "864/864 [==============================] - 31s 36ms/step - loss: 1.0103 - acc: 0.6934 - val_loss: 1.9264 - val_acc: 0.5335\n",
            "Epoch 17/30\n",
            "864/864 [==============================] - 32s 37ms/step - loss: 0.9580 - acc: 0.7123 - val_loss: 1.9327 - val_acc: 0.5198\n",
            "Epoch 18/30\n",
            "864/864 [==============================] - 31s 36ms/step - loss: 0.8992 - acc: 0.7243 - val_loss: 1.9433 - val_acc: 0.5303\n",
            "Epoch 19/30\n",
            "864/864 [==============================] - 32s 37ms/step - loss: 0.8387 - acc: 0.7416 - val_loss: 2.1144 - val_acc: 0.5439\n",
            "Epoch 20/30\n",
            "864/864 [==============================] - 31s 36ms/step - loss: 0.7870 - acc: 0.7598 - val_loss: 2.0546 - val_acc: 0.5413\n",
            "Epoch 21/30\n",
            "864/864 [==============================] - 31s 36ms/step - loss: 0.7611 - acc: 0.7640 - val_loss: 2.0462 - val_acc: 0.5231\n",
            "Epoch 22/30\n",
            "864/864 [==============================] - 31s 36ms/step - loss: 0.7084 - acc: 0.7829 - val_loss: 2.1611 - val_acc: 0.5270\n",
            "Epoch 23/30\n",
            "864/864 [==============================] - 32s 37ms/step - loss: 0.6629 - acc: 0.7937 - val_loss: 2.1869 - val_acc: 0.5283\n",
            "Epoch 24/30\n",
            "864/864 [==============================] - 32s 37ms/step - loss: 0.6373 - acc: 0.8050 - val_loss: 2.0560 - val_acc: 0.5413\n",
            "Epoch 25/30\n",
            "864/864 [==============================] - 32s 37ms/step - loss: 0.5926 - acc: 0.8171 - val_loss: 2.1199 - val_acc: 0.5394\n",
            "Epoch 26/30\n",
            "864/864 [==============================] - 31s 36ms/step - loss: 0.5774 - acc: 0.8205 - val_loss: 2.2355 - val_acc: 0.5465\n",
            "Epoch 27/30\n",
            "864/864 [==============================] - 31s 36ms/step - loss: 0.5363 - acc: 0.8317 - val_loss: 2.3449 - val_acc: 0.5322\n",
            "Epoch 28/30\n",
            "864/864 [==============================] - 31s 36ms/step - loss: 0.5434 - acc: 0.8313 - val_loss: 2.2483 - val_acc: 0.5283\n",
            "Epoch 29/30\n",
            "864/864 [==============================] - 31s 36ms/step - loss: 0.4997 - acc: 0.8398 - val_loss: 2.2833 - val_acc: 0.5472\n",
            "Epoch 30/30\n",
            "864/864 [==============================] - 31s 36ms/step - loss: 0.4785 - acc: 0.8516 - val_loss: 2.3991 - val_acc: 0.5140\n"
          ],
          "name": "stdout"
        }
      ]
    },
    {
      "cell_type": "code",
      "metadata": {
        "id": "WVYVl52U_7ec",
        "colab_type": "code",
        "outputId": "e3c02d40-cd20-4698-f27b-cba2d6aabff8",
        "colab": {
          "base_uri": "https://localhost:8080/",
          "height": 590
        }
      },
      "source": [
        "print(history.history.keys())\n",
        "\n",
        "plt.plot(history.history['acc'])\n",
        "plt.plot(history.history['val_acc'])\n",
        "plt.title('model accuracy')\n",
        "plt.ylabel('accuracy')\n",
        "plt.xlabel('epoch')\n",
        "plt.legend(['train', 'test'], loc='upper left')\n",
        "plt.show()\n",
        "\n",
        "\n",
        "# summarize history for loss\n",
        "plt.plot(history.history['loss'])\n",
        "plt.plot(history.history['val_loss'])\n",
        "plt.title('model loss')\n",
        "plt.ylabel('loss')\n",
        "plt.xlabel('epoch')\n",
        "plt.legend(['train', 'test'], loc='upper left')\n",
        "plt.show()"
      ],
      "execution_count": 0,
      "outputs": [
        {
          "output_type": "stream",
          "text": [
            "dict_keys(['val_loss', 'val_acc', 'loss', 'acc'])\n"
          ],
          "name": "stdout"
        },
        {
          "output_type": "display_data",
          "data": {
            "image/png": "[encoded data removed]",
            "text/plain": [
              "<Figure size 432x288 with 1 Axes>"
            ]
          },
          "metadata": {
            "tags": []
          }
        },
        {
          "output_type": "display_data",
          "data": {
            "image/png": "[encoded data removed]",
            "text/plain": [
              "<Figure size 432x288 with 1 Axes>"
            ]
          },
          "metadata": {
            "tags": []
          }
        }
      ]
    },
    {
      "cell_type": "code",
      "metadata": {
        "id": "y13uNkM58YDe",
        "colab_type": "code",
        "outputId": "c79716b9-24ef-4fad-eef5-2df122c905c0",
        "colab": {
          "base_uri": "https://localhost:8080/",
          "height": 561
        }
      },
      "source": [
        "model.summary()"
      ],
      "execution_count": 0,
      "outputs": [
        {
          "output_type": "stream",
          "text": [
            "Model: \"sequential_3\"\n",
            "_________________________________________________________________\n",
            "Layer (type)                 Output Shape              Param #   \n",
            "=================================================================\n",
            "conv2d_7 (Conv2D)            (None, 96, 96, 16)        1216      \n",
            "_________________________________________________________________\n",
            "max_pooling2d_7 (MaxPooling2 (None, 48, 48, 16)        0         \n",
            "_________________________________________________________________\n",
            "conv2d_8 (Conv2D)            (None, 48, 48, 32)        12832     \n",
            "_________________________________________________________________\n",
            "max_pooling2d_8 (MaxPooling2 (None, 24, 24, 32)        0         \n",
            "_________________________________________________________________\n",
            "conv2d_9 (Conv2D)            (None, 24, 24, 64)        51264     \n",
            "_________________________________________________________________\n",
            "max_pooling2d_9 (MaxPooling2 (None, 12, 12, 64)        0         \n",
            "_________________________________________________________________\n",
            "conv2d_10 (Conv2D)           (None, 12, 12, 128)       204928    \n",
            "_________________________________________________________________\n",
            "max_pooling2d_10 (MaxPooling (None, 6, 6, 128)         0         \n",
            "_________________________________________________________________\n",
            "flatten_3 (Flatten)          (None, 4608)              0         \n",
            "_________________________________________________________________\n",
            "dense_5 (Dense)              (None, 1024)              4719616   \n",
            "_________________________________________________________________\n",
            "dense_6 (Dense)              (None, 512)               524800    \n",
            "_________________________________________________________________\n",
            "dense_7 (Dense)              (None, 83)                42579     \n",
            "=================================================================\n",
            "Total params: 5,557,235\n",
            "Trainable params: 5,557,235\n",
            "Non-trainable params: 0\n",
            "_________________________________________________________________\n"
          ],
          "name": "stdout"
        }
      ]
    },
    {
      "cell_type": "markdown",
      "metadata": {
        "id": "l_0GyWxVH5Kc",
        "colab_type": "text"
      },
      "source": [
        "### Evaluation of the model on the test set"
      ]
    },
    {
      "cell_type": "code",
      "metadata": {
        "id": "1XPQq9QLbDYs",
        "colab_type": "code",
        "colab": {}
      },
      "source": [
        "def predictions_on_testset(model,test_img_ids,test_years,no_labels):\n",
        "    no_testing_set=len(test_img_ids)\n",
        "    test_images=load_images(test_img_ids,(96,96))\n",
        "    test_image_mean=calculate_images_mean(test_images)\n",
        "    test_images=image_pre_processing(test_images,test_image_mean)\n",
        "    predictions=model.predict(test_images,16)\n",
        "    predicted_labels=np.argmax(predictions,axis=1)\n",
        "    test_hot=load_labels_one_hot_encoding(test_years,no_labels)\n",
        "    test_labels=np.argmax(test_hot,axis=1)\n",
        "    acc=np.sum(predicted_labels==test_labels)\n",
        "    print(\"accuracy = \",acc/no_testing_set)\n",
        "    diffs=abs(predicted_labels-test_labels)\n",
        "    print('Avg Error', np.average(diffs))\n",
        "    print('Median Error', np.median(diffs))\n",
        "    print('Class. Accuracy Within 5 Years', (np.sum(diffs<5))/(no_testing_set) )\n",
        "    print('Class. Accuracy Within 10 Years',np.sum(diffs<10)/(no_testing_set))\n",
        "\n"
      ],
      "execution_count": 0,
      "outputs": []
    },
    {
      "cell_type": "code",
      "metadata": {
        "id": "0vqlw1SGkWIB",
        "colab_type": "code",
        "outputId": "4fb1c730-ca5f-4b9e-83f3-a096f91a5e61",
        "colab": {
          "base_uri": "https://localhost:8080/",
          "height": 102
        }
      },
      "source": [
        "predictions_on_testset(model,test_img_ids,test_years,no_labels)"
      ],
      "execution_count": 0,
      "outputs": [
        {
          "output_type": "stream",
          "text": [
            "accuracy =  0.05418835778513961\n",
            "Avg Error 10.788215806909607\n",
            "Median Error 6.0\n",
            "Class. Accuracy Within 5 Years 0.39446284902981543\n",
            "Class. Accuracy Within 10 Years 0.6218646474207288\n"
          ],
          "name": "stdout"
        }
      ]
    },
    {
      "cell_type": "code",
      "metadata": {
        "id": "H_CJqrSykZSD",
        "colab_type": "code",
        "colab": {}
      },
      "source": [
        ""
      ],
      "execution_count": 0,
      "outputs": []
    }
  ]
}